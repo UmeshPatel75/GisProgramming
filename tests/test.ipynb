{
 "cells": [
  {
   "cell_type": "code",
   "execution_count": 1,
   "id": "812bc0c8",
   "metadata": {},
   "outputs": [
    {
     "name": "stderr",
     "output_type": "stream",
     "text": [
      "E:\\GeoSpatial_Python\\GisProgramming\\src\\config.py:3: SyntaxWarning: invalid escape sequence '\\G'\n",
      "  Path: E:\\GeoSpatial_Python\\GisProgramming\\src\\config.py\n",
      "E:\\GeoSpatial_Python\\GisProgramming\\src\\data_processing\\vector_utils.py:3: SyntaxWarning: invalid escape sequence '\\G'\n",
      "  Path: E:\\GeoSpatial_Python\\GisProgramming\\src\\data_processing\\vector_utils.py\n"
     ]
    },
    {
     "name": "stdout",
     "output_type": "stream",
     "text": [
      "✅ Setup working perfectly!\n",
      "Data directory: E:\\GeoSpatial_Python\\GisProgramming\\data\n"
     ]
    }
   ],
   "source": [
    "# Test your setup\n",
    "import sys\n",
    "sys.path.append(r\"E:\\GeoSpatial_Python\\GisProgramming\\src\")\n",
    "\n",
    "from config import Config\n",
    "from data_processing.vector_utils import VectorDataProcessor\n",
    "\n",
    "config = Config()\n",
    "processor = VectorDataProcessor()\n",
    "\n",
    "print(\"✅ Setup working perfectly!\")\n",
    "print(f\"Data directory: {config.DATA_DIR}\")"
   ]
  }
 ],
 "metadata": {
  "kernelspec": {
   "display_name": "geo_env",
   "language": "python",
   "name": "geo_env"
  },
  "language_info": {
   "codemirror_mode": {
    "name": "ipython",
    "version": 3
   },
   "file_extension": ".py",
   "mimetype": "text/x-python",
   "name": "python",
   "nbconvert_exporter": "python",
   "pygments_lexer": "ipython3",
   "version": "3.13.7"
  }
 },
 "nbformat": 4,
 "nbformat_minor": 5
}
